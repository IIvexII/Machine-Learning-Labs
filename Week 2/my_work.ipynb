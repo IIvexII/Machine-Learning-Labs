{
 "cells": [
  {
   "cell_type": "code",
   "execution_count": 41,
   "metadata": {},
   "outputs": [],
   "source": [
    "import numpy as np\n",
    "import pandas as pd\n",
    "import math\n",
    "np.set_printoptions(precision=2)"
   ]
  },
  {
   "cell_type": "code",
   "execution_count": 86,
   "metadata": {},
   "outputs": [
    {
     "name": "stdout",
     "output_type": "stream",
     "text": [
      "x_train: (3, 4), y_train: (3,)\n"
     ]
    }
   ],
   "source": [
    "x_train = np.array([[2104, 5, 1, 45], [1416, 3, 2, 40], [852, 2, 1, 35]])\n",
    "y_train = np.array([460, 232, 178])\n",
    "\n",
    "print(f\"x_train: {x_train.shape}, y_train: {y_train.shape}\")"
   ]
  },
  {
   "cell_type": "code",
   "execution_count": 87,
   "metadata": {},
   "outputs": [],
   "source": [
    "b_init = 785.1811367994083\n",
    "w_init = np.array([ 0.39133535, 18.75376741, -53.36032453, -26.42131618])"
   ]
  },
  {
   "cell_type": "code",
   "execution_count": 88,
   "metadata": {},
   "outputs": [],
   "source": [
    "def predict(x, w, b):\n",
    "    n = x.shape[0]\n",
    "    f_wb = 0\n",
    "\n",
    "    for i in range(n):\n",
    "        f_wb += w[i] * x[i]\n",
    "\n",
    "    f_wb += b\n",
    "    return f_wb"
   ]
  },
  {
   "cell_type": "code",
   "execution_count": 89,
   "metadata": {},
   "outputs": [
    {
     "data": {
      "text/plain": [
       "459.9999976194083"
      ]
     },
     "execution_count": 89,
     "metadata": {},
     "output_type": "execute_result"
    }
   ],
   "source": [
    "predict(x_train[0], w_init, b_init)"
   ]
  },
  {
   "cell_type": "code",
   "execution_count": 90,
   "metadata": {},
   "outputs": [],
   "source": [
    "def compute_cost(x, y, w, b):\n",
    "    m = x.shape[0]\n",
    "    cost = 0\n",
    "\n",
    "    # 1/2m sum (w.x + b - y)^2\n",
    "    for i in range(m):\n",
    "        cost += (np.dot(w, x[i]) + b - y[i]) ** 2\n",
    "    cost = 1/(2 * m) * cost\n",
    "    return cost"
   ]
  },
  {
   "cell_type": "code",
   "execution_count": 91,
   "metadata": {},
   "outputs": [
    {
     "name": "stdout",
     "output_type": "stream",
     "text": [
      "Cost at optimal w : 1.5578904428966628e-12\n"
     ]
    }
   ],
   "source": [
    "cost = compute_cost(x_train, y_train, w_init, b_init)\n",
    "print(f'Cost at optimal w : {cost}')"
   ]
  },
  {
   "cell_type": "code",
   "execution_count": 92,
   "metadata": {},
   "outputs": [
    {
     "name": "stdout",
     "output_type": "stream",
     "text": [
      "[[2104    5    1   45]\n",
      " [1416    3    2   40]\n",
      " [ 852    2    1   35]] \n",
      "\n",
      " [460 232 178]\n"
     ]
    }
   ],
   "source": [
    "print(x_train,\"\\n\\n\" ,y_train)"
   ]
  },
  {
   "cell_type": "code",
   "execution_count": 99,
   "metadata": {},
   "outputs": [
    {
     "name": "stdout",
     "output_type": "stream",
     "text": [
      "dj_dw = [-2.73e-03 -6.27e-06 -2.22e-06 -6.92e-05]\n",
      "dj_db = -1.6739251501955248e-06\n"
     ]
    }
   ],
   "source": [
    "def compute_gradient(x, y, w, b):\n",
    "    # x -> (m, n)\n",
    "    # y -> (n,)\n",
    "    # w -> (n,)\n",
    "    # b -> scaler\n",
    "\n",
    "    m,n = x.shape\n",
    "    dj_dw = np.zeros((n,))\n",
    "    dj_db = 0.\n",
    "\n",
    "    for i in range(m):\n",
    "        error =  (np.dot(w , x[i]) + b) - y[i]\n",
    "        for j in range(n):\n",
    "            dj_dw[j] += error * x[i,j]\n",
    "        dj_db += error\n",
    "\n",
    "    dj_dw /= m\n",
    "    dj_db /= m\n",
    "\n",
    "    \n",
    "    return dj_dw, dj_db\n"
   ]
  },
  {
   "cell_type": "code",
   "execution_count": 101,
   "metadata": {},
   "outputs": [
    {
     "name": "stdout",
     "output_type": "stream",
     "text": [
      "dj_dw = [-2.73e-03 -6.27e-06 -2.22e-06 -6.92e-05]\n",
      "dj_db = -1.6739251501955248e-06\n"
     ]
    }
   ],
   "source": [
    "dj_dw, dj_db = compute_gradient(x_train, y_train, w_init, b_init)\n",
    "\n",
    "print(f\"dj_dw = {dj_dw}\")\n",
    "print(f\"dj_db = {dj_db}\")"
   ]
  },
  {
   "cell_type": "code",
   "execution_count": 125,
   "metadata": {},
   "outputs": [],
   "source": [
    "def gradient_descent(x, y, w, b, alpha, nums_iters):\n",
    "    prev_w = []\n",
    "    prev_b = 0\n",
    "\n",
    "    for i in range(nums_iters):\n",
    "\n",
    "        dj_dw, dj_db = compute_gradient(x, y, w, b)\n",
    "\n",
    "        w -= alpha * dj_dw\n",
    "        b -= alpha * dj_db\n",
    "\n",
    "        if i != 0 and np.equal(prev_w, w).all() and prev_b == b:\n",
    "            print(\"found early\")\n",
    "            return w, b\n",
    "        else:\n",
    "            prev_w = w\n",
    "            prev_b = b\n",
    "        \n",
    "    return w, b\n"
   ]
  },
  {
   "cell_type": "code",
   "execution_count": 204,
   "metadata": {},
   "outputs": [],
   "source": [
    "# initialize parameters\n",
    "initial_w = np.array([  0.16 , 23.19, -64.88,   1.78]  )\n",
    "initial_b = 1.27"
   ]
  },
  {
   "cell_type": "code",
   "execution_count": 203,
   "metadata": {},
   "outputs": [
    {
     "name": "stdout",
     "output_type": "stream",
     "text": [
      "b,w found by gradient descent: 1.28,[  0.16  23.28 -65.14   1.8 ] \n",
      "prediction: 459.83, target value: 460\n",
      "prediction: 232.40, target value: 232\n",
      "prediction: 177.77, target value: 178\n"
     ]
    }
   ],
   "source": [
    "\n",
    "# some gradient descent settings\n",
    "iterations = 1_000_000\n",
    "alpha = 8.36e-7\n",
    "# run gradient descent \n",
    "initial_w, initial_b = gradient_descent(x_train, y_train, initial_w, initial_b, alpha, iterations)\n",
    "print(f\"b,w found by gradient descent: {initial_b:0.2f},{initial_w} \")\n",
    "m,_ = x_train.shape\n",
    "for i in range(m):\n",
    "    print(f\"prediction: {np.dot(x_train[i], initial_w) + initial_b:0.2f}, target value: {y_train[i]}\")"
   ]
  },
  {
   "attachments": {},
   "cell_type": "markdown",
   "metadata": {},
   "source": [
    "# Standard Deviation"
   ]
  },
  {
   "cell_type": "code",
   "execution_count": 55,
   "metadata": {},
   "outputs": [],
   "source": [
    "def standard_deviation(x , sample=False):\n",
    "    n = x.shape[0]\n",
    "    \n",
    "    mean = np.sum(x) / n\n",
    "\n",
    "    if sample:\n",
    "        n -= 1\n",
    "\n",
    "    varience = np.sum((x - mean)**2) / n\n",
    "    std = math.sqrt(varience)\n",
    "\n",
    "    print(f\"Mean = {mean}\")\n",
    "    print(f\"Varience = {varience}\")\n",
    "    print(f\"Standard Daviation = {std}\")\n",
    "\n",
    "    return std\n",
    "    "
   ]
  },
  {
   "cell_type": "code",
   "execution_count": 56,
   "metadata": {},
   "outputs": [
    {
     "name": "stdout",
     "output_type": "stream",
     "text": [
      "[0.45 1.93 4.78 9.54 0.38 6.54 1.67 7.28 7.92 7.89]\n"
     ]
    }
   ],
   "source": [
    "# generating randome data\n",
    "test_data = np.random.random_sample((10))\n",
    "\n",
    "# ranging the data from 0-10\n",
    "test_data = test_data*10\n",
    "print(test_data)\n"
   ]
  },
  {
   "cell_type": "code",
   "execution_count": 58,
   "metadata": {},
   "outputs": [
    {
     "name": "stdout",
     "output_type": "stream",
     "text": [
      "Mean = 4.838408682780785\n",
      "Varience = 11.93303318562321\n",
      "Standard Daviation = 3.454422265100665\n"
     ]
    }
   ],
   "source": [
    "std = standard_deviation(test_data, sample=True)"
   ]
  }
 ],
 "metadata": {
  "kernelspec": {
   "display_name": "Python 3",
   "language": "python",
   "name": "python3"
  },
  "language_info": {
   "codemirror_mode": {
    "name": "ipython",
    "version": 3
   },
   "file_extension": ".py",
   "mimetype": "text/x-python",
   "name": "python",
   "nbconvert_exporter": "python",
   "pygments_lexer": "ipython3",
   "version": "3.8.10"
  },
  "orig_nbformat": 4
 },
 "nbformat": 4,
 "nbformat_minor": 2
}
